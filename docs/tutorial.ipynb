{
 "cells": [
  {
   "cell_type": "markdown",
   "metadata": {},
   "source": [
    "# Postprocessing with atooms \n",
    "\n",
    "In this notebook, we are going to show how to perform standard analysis of molecular dynamics trajectories using the **atooms** package and its **postprocessing** library. You can install both of them from pypi. "
   ]
  },
  {
   "cell_type": "markdown",
   "metadata": {},
   "source": [
    "We start with loading common libraries for plotting and path handling."
   ]
  },
  {
   "cell_type": "code",
   "execution_count": 2,
   "metadata": {},
   "outputs": [],
   "source": [
    "%matplotlib inline\n",
    "import pylab as pl\n",
    "import sys"
   ]
  },
  {
   "cell_type": "markdown",
   "metadata": {},
   "source": [
    "We then import the **postprocessing** library and the trajectory class from **atooms**. In this particular case, we will read an XYZ file, so we load the **TrajectoryXYZ** class"
   ]
  },
  {
   "cell_type": "code",
   "execution_count": 3,
   "metadata": {},
   "outputs": [],
   "source": [
    "import atooms.postprocessing as pp\n",
    "from atooms.trajectory import TrajectoryXYZ "
   ]
  },
  {
   "cell_type": "markdown",
   "metadata": {},
   "source": [
    "We consider an example trajectory, located in the postprocessing package. We can grab it at this link https://gitlab.info-ufr.univ-montp2.fr/atooms/postprocessing/raw/master/data/kalj-small.xyz (we can download it from a terminal with wget). Let's store the path to this file in a variable for later convenience"
   ]
  },
  {
   "cell_type": "code",
   "execution_count": 4,
   "metadata": {},
   "outputs": [],
   "source": [
    "path = \"kalj-small.xyz\""
   ]
  },
  {
   "cell_type": "markdown",
   "metadata": {},
   "source": [
    "## Handling a trajectory"
   ]
  },
  {
   "cell_type": "markdown",
   "metadata": {},
   "source": [
    "A trajectory is an object with many properites. To load a trajectory, we create an instance of the class as follows"
   ]
  },
  {
   "cell_type": "code",
   "execution_count": 13,
   "metadata": {},
   "outputs": [],
   "source": [
    "th = TrajectoryXYZ(path)"
   ]
  },
  {
   "cell_type": "markdown",
   "metadata": {},
   "source": [
    "The trajectory is a list-like object, in the sense that it can be iterated up and sliced. Each frame of the trajectory contains a **System** object, which is a full configration of the system at a given instant of time during the simulation. Here we print the first, the 10th and the last frame"
   ]
  },
  {
   "cell_type": "code",
   "execution_count": 14,
   "metadata": {
    "scrolled": true
   },
   "outputs": [
    {
     "name": "stdout",
     "output_type": "stream",
     "text": [
      "<atooms.system.system.System object at 0x7f769d54be90> <atooms.system.system.System object at 0x7f769d54be10> <atooms.system.system.System object at 0x7f769d54bdd0>\n"
     ]
    }
   ],
   "source": [
    "print th[0], th[10], th[-1]"
   ]
  },
  {
   "cell_type": "markdown",
   "metadata": {},
   "source": [
    " To know how many frames we have"
   ]
  },
  {
   "cell_type": "code",
   "execution_count": 15,
   "metadata": {},
   "outputs": [
    {
     "name": "stdout",
     "output_type": "stream",
     "text": [
      "101\n"
     ]
    }
   ],
   "source": [
    "print len(th)"
   ]
  },
  {
   "cell_type": "markdown",
   "metadata": {},
   "source": [
    "To clarify: a slice is a list of frames, not a trajectory"
   ]
  },
  {
   "cell_type": "code",
   "execution_count": 8,
   "metadata": {},
   "outputs": [
    {
     "data": {
      "text/plain": [
       "[<atooms.system.system.System at 0x7f769d6a2390>,\n",
       " <atooms.system.system.System at 0x7f769d6b9a10>,\n",
       " <atooms.system.system.System at 0x7f769d6520d0>,\n",
       " <atooms.system.system.System at 0x7f769d662750>,\n",
       " <atooms.system.system.System at 0x7f769d672dd0>]"
      ]
     },
     "execution_count": 8,
     "metadata": {},
     "output_type": "execute_result"
    }
   ],
   "source": [
    "th[10: 15]"
   ]
  },
  {
   "cell_type": "markdown",
   "metadata": {},
   "source": [
    "Note: it is actually possible to define a slice of a trajectory *as a trajectory* by using the **Sliced** class decorator, see below."
   ]
  },
  {
   "cell_type": "markdown",
   "metadata": {},
   "source": [
    "If the trajectory contains metadata, these can be retrieved directly:"
   ]
  },
  {
   "cell_type": "code",
   "execution_count": 16,
   "metadata": {},
   "outputs": [
    {
     "name": "stdout",
     "output_type": "stream",
     "text": [
      "Timestep during the trajectory: 0.001\n",
      "Steps corresponding to the 3rd frame: 2000\n",
      "{'ndim': 3, 'npart': 150, 'cell': [5.0, 5.0, 5.0], 'step': 0, 'dt': 0.001, 'columns': ['name', 'pos']}\n"
     ]
    }
   ],
   "source": [
    "print \"Timestep during the trajectory:\", th.timestep\n",
    "print \"Steps corresponding to the 3rd frame:\", th.steps[2]\n",
    "print th._read_metadata(0)  # additional metadata"
   ]
  },
  {
   "cell_type": "markdown",
   "metadata": {},
   "source": [
    "## Analysis of the trajectory\n",
    "\n",
    "Now that we have constructed a trajectory object, we can proceed to the analysis. We are going to consider two main aspects of the analysis:\n",
    "* structural correlations\n",
    "* dynamical correlations"
   ]
  },
  {
   "cell_type": "markdown",
   "metadata": {},
   "source": [
    "### Structural correlations : computing the *radial distribution function*"
   ]
  },
  {
   "cell_type": "markdown",
   "metadata": {},
   "source": [
    "The radial distribution function *g(r)* describes how density varies as a function of the radial distance from a reference particle. In liquids, one normally averages over all particles, obtaining a descriptor of the probability to find a second particle a distance $r$ from a given particle, relative to that of the ideal gas.\n",
    "\n",
    "For $N$ particles of the same type at density $\\rho$ it is"
   ]
  },
  {
   "cell_type": "markdown",
   "metadata": {},
   "source": [
    "$$g(r)=\\frac{1}{N\\rho}\\left\\langle\\sum_i^{N}\\sum_{i\\neq j}\\delta(r-|\\mathbf{r}_i-\\mathbf{r}_j|)\\right\\rangle$$."
   ]
  },
  {
   "cell_type": "markdown",
   "metadata": {},
   "source": [
    "Notice that the average number of particles with a distance $R$, i.e. the average **coordination** $n(R)$,  can be computed from the radial distribution function via integration in spherical coordinates (for 3D systems)\n",
    "\n",
    "$$n(R)=4\\pi \\rho\\int_0^R g(r)r^2 dr$$"
   ]
  },
  {
   "cell_type": "markdown",
   "metadata": {},
   "source": [
    "In *postprocessing* the radial distribution function is a correlation object that acts on a trajectory. In order to compute it, we simpy construct the object, specifying some parameters, and then run the calculation with the **do()** method"
   ]
  },
  {
   "cell_type": "code",
   "execution_count": 17,
   "metadata": {},
   "outputs": [],
   "source": [
    "gr = pp.RadialDistributionFunction(th, norigins=5, dr=0.04)\n",
    "gr.do()"
   ]
  },
  {
   "cell_type": "markdown",
   "metadata": {},
   "source": [
    "Once the calculation is performed, the radial distribution object gr contains (like all correlators in *postprocessing*) two arrays:\n",
    "* the **grid** array contains the independent variable (or variables), binned according to our input parameters (in this case, the smallest space interval that we resolve, *dr*\n",
    "* the **value** array contains the actual value of teh computation, in this case the values of the g(r)\n",
    "\n",
    "We can directly plot the results with"
   ]
  },
  {
   "cell_type": "code",
   "execution_count": 18,
   "metadata": {},
   "outputs": [
    {
     "data": {
      "image/png": "[encoded data removed]",
      "text/plain": [
       "<matplotlib.figure.Figure at 0x7f769d5cb090>"
      ]
     },
     "metadata": {},
     "output_type": "display_data"
    }
   ],
   "source": [
    "pl.plot(gr.grid, gr.value)\n",
    "pl.xlabel(\"r\"), pl.ylabel(\"g(r)\");"
   ]
  },
  {
   "cell_type": "markdown",
   "metadata": {},
   "source": [
    "As we can see, the function displays two narrow peaks around $r=1$ and a broader peak further away. The several peaks correspond to the fact that the trajectory actualy contains two types of particles, noted as \"A\" and \"B\". \n",
    "\n",
    "We can compute separate distribution functions for the A and B particles and also the cross distribution funtion for the probability to find a particle B at distance $r$ from particel $A$ using the **Partial** class in *postprocessing*:"
   ]
  },
  {
   "cell_type": "code",
   "execution_count": 20,
   "metadata": {},
   "outputs": [],
   "source": [
    "gr = pp.Partial(pp.RadialDistributionFunction, species=['A', 'B'], trajectory=th, norigins=100)\n",
    "gr.do() "
   ]
  },
  {
   "cell_type": "markdown",
   "metadata": {},
   "source": [
    "In this case, the result contains a dictionary *gr.partial*:"
   ]
  },
  {
   "cell_type": "code",
   "execution_count": 21,
   "metadata": {},
   "outputs": [
    {
     "data": {
      "text/plain": [
       "dict"
      ]
     },
     "execution_count": 21,
     "metadata": {},
     "output_type": "execute_result"
    }
   ],
   "source": [
    "type(gr.partial)"
   ]
  },
  {
   "cell_type": "markdown",
   "metadata": {},
   "source": [
    "We can treat the result as any norrmal dictionary: "
   ]
  },
  {
   "cell_type": "code",
   "execution_count": 22,
   "metadata": {},
   "outputs": [
    {
     "data": {
      "image/png": "[encoded data removed]",
      "text/plain": [
       "<matplotlib.figure.Figure at 0x7f769d556810>"
      ]
     },
     "metadata": {},
     "output_type": "display_data"
    }
   ],
   "source": [
    "for key,g in gr.partial.items(): \n",
    "    pl.plot(g.grid, g.value, label=str(\"\".join(key)))\n",
    "pl.legend(); pl.xlabel(\"r\"); pl.ylabel(r\"$g_{\\alpha\\beta}(r)$\");\n"
   ]
  },
  {
   "cell_type": "markdown",
   "metadata": {},
   "source": [
    "Sometimes, it is useful to analyse only sections of a trajectory. To this purpose, one can **slice** the trajectory using *atooms* and analyse individual frames or subsets of frames. "
   ]
  },
  {
   "cell_type": "code",
   "execution_count": 23,
   "metadata": {},
   "outputs": [
    {
     "data": {
      "image/png": "[encoded data removed]",
      "text/plain": [
       "<matplotlib.figure.Figure at 0x7f769d520b50>"
      ]
     },
     "metadata": {},
     "output_type": "display_data"
    }
   ],
   "source": [
    "from atooms import trajectory\n",
    "\n",
    "t =  trajectory.Sliced(th, slice(-1, len(th))) # analyse only the last frame\n",
    "gr = pp.RadialDistributionFunction(t, dr=0.04)\n",
    "gr.do()\n",
    "pl.plot(gr.grid, gr.value)\n",
    "pl.xlabel(\"r\"); pl.ylabel(\"g(r)\"); # notice that the g(r) is more noisy"
   ]
  },
  {
   "cell_type": "markdown",
   "metadata": {},
   "source": [
    "### Dynamical Correlations: computing  the Mean Square Displacement"
   ]
  },
  {
   "cell_type": "markdown",
   "metadata": {},
   "source": [
    "A very similar kind of anaysis can be performed on dynamical quantities, which quantify correlations in time.\n",
    "\n",
    "The most elementary of such quantities is the mean squared displacement (MSD). This is defined as\n",
    "\n",
    "$$ MSD(t)= \\langle \\mathbf{r}(t-t_0) - \\mathbf{r}(t_0)\\rangle$$\n",
    "\n",
    "The average is normally perfomed over all the paricles $N$ and over multiple values for the *origin* of time $t_0$.\n",
    "\n",
    "The analysis process is now familiar. First we cosntruct the msd object and then perform the calculation with **.do**."
   ]
  },
  {
   "cell_type": "code",
   "execution_count": 24,
   "metadata": {},
   "outputs": [],
   "source": [
    "msd = pp.MeanSquareDisplacement(th)\n",
    "msd.do()"
   ]
  },
  {
   "cell_type": "code",
   "execution_count": 25,
   "metadata": {},
   "outputs": [
    {
     "data": {
      "image/png": "[encoded data removed]",
      "text/plain": [
       "<matplotlib.figure.Figure at 0x7f769d683810>"
      ]
     },
     "metadata": {},
     "output_type": "display_data"
    }
   ],
   "source": [
    "pl.loglog(msd.grid, msd.value, 'o')\n",
    "pl.xlabel(\"t\");  pl.ylabel(\"MSD(t)\");"
   ]
  },
  {
   "cell_type": "markdown",
   "metadata": {},
   "source": [
    "Again, we can compute partial mean square displacements using the **Partial** class"
   ]
  },
  {
   "cell_type": "code",
   "execution_count": 26,
   "metadata": {},
   "outputs": [
    {
     "data": {
      "image/png": "[encoded data removed]",
      "text/plain": [
       "<matplotlib.figure.Figure at 0x7f769d57ab50>"
      ]
     },
     "metadata": {},
     "output_type": "display_data"
    }
   ],
   "source": [
    "msds = pp.Partial(pp.MeanSquareDisplacement, species=['A','B'], trajectory=th, norigins=100)\n",
    "msds.do()\n",
    "pl.loglog(msds.partial['A'].grid, msds.partial['A'].value, 'o')\n",
    "pl.loglog(msds.partial['B'].grid, msds.partial['B'].value, 'o')\n",
    "pl.xlabel(\"t\"); pl.ylabel(\"MSD(t)\");"
   ]
  },
  {
   "cell_type": "markdown",
   "metadata": {},
   "source": [
    "## Computing the Self Intermediate Scattering Function"
   ]
  },
  {
   "cell_type": "markdown",
   "metadata": {},
   "source": [
    "We compute the intermediate scattering function (ISF) at specific wave-vectors using a logarithmic time grid."
   ]
  },
  {
   "cell_type": "code",
   "execution_count": 29,
   "metadata": {},
   "outputs": [],
   "source": [
    "isf = pp.Partial(pp.SelfIntermediateScattering, species=[\"A\"], trajectory= th, kgrid=[2*pl.pi, 2.5*pl.pi], nk=1, tgrid=pl.logspace(0, 3, base=10))\n",
    "isf.do()"
   ]
  },
  {
   "cell_type": "markdown",
   "metadata": {},
   "source": [
    "To get some info on the parameters passed to compute the ISF, have a look at the help for the base class"
   ]
  },
  {
   "cell_type": "code",
   "execution_count": 35,
   "metadata": {},
   "outputs": [
    {
     "name": "stdout",
     "output_type": "stream",
     "text": [
      "Help on class FourierSpaceCorrelation in module atooms.postprocessing.fourierspace:\n",
      "\n",
      "class FourierSpaceCorrelation(atooms.postprocessing.correlation.Correlation)\n",
      " |  Base class for Fourier space correlation functions.\n",
      " |  \n",
      " |  The correlation function is computed for each of the scalar values\n",
      " |  k_i of the provided `kgrid`. If the latter is `None`, the grid is\n",
      " |  built using `ksamples` entries linearly spaced between `kmin` and\n",
      " |  `kmax`.\n",
      " |  \n",
      " |  For each sample k_i in `kgrid`, the correlation function is\n",
      " |  computed over at most `nk` wave-vectors (k_x, k_y, k_z) such that\n",
      " |  their norm (k_x^2+k_y^2+k_z^2)^{1/2} lies within `dk` of the\n",
      " |  prescribed value k_i.\n",
      " |  \n",
      " |  Method resolution order:\n",
      " |      FourierSpaceCorrelation\n",
      " |      atooms.postprocessing.correlation.Correlation\n",
      " |      __builtin__.object\n",
      " |  \n",
      " |  Methods defined here:\n",
      " |  \n",
      " |  __init__(self, trajectory, grid, symbol, short_name, description, phasespace, nk=8, dk=0.1, kmin=-1, kmax=10, ksamples=20)\n",
      " |  \n",
      " |  report(self, k_sorted, k_selected)\n",
      " |  \n",
      " |  ----------------------------------------------------------------------\n",
      " |  Methods inherited from atooms.postprocessing.correlation.Correlation:\n",
      " |  \n",
      " |  __call__(self)\n",
      " |  \n",
      " |  __str__(self)\n",
      " |  \n",
      " |  add_filter(self, cbk, *args, **kwargs)\n",
      " |      Add filter callback `cbk` along with positional and keyword arguments\n",
      " |  \n",
      " |  analyze(self)\n",
      " |      Subclasses may implement this and store the results in the self.results dictonary\n",
      " |  \n",
      " |  compute(self)\n",
      " |      Compute the correlation function.\n",
      " |      \n",
      " |      It wraps the _compute() method implemented by subclasses.\n",
      " |      This method also returns the tuple `self.grid`, `self.value`.\n",
      " |  \n",
      " |  do(self)\n",
      " |      Do the full template pattern: compute, analyze and write the\n",
      " |      correlation function.\n",
      " |  \n",
      " |  read(self)\n",
      " |      Read correlation function from existing file\n",
      " |  \n",
      " |  write(self)\n",
      " |      Write the correlation function and the analysis data to file\n",
      " |  \n",
      " |  ----------------------------------------------------------------------\n",
      " |  Data descriptors inherited from atooms.postprocessing.correlation.Correlation:\n",
      " |  \n",
      " |  __dict__\n",
      " |      dictionary for instance variables (if defined)\n",
      " |  \n",
      " |  __weakref__\n",
      " |      list of weak references to the object (if defined)\n",
      " |  \n",
      " |  ----------------------------------------------------------------------\n",
      " |  Data and other attributes inherited from atooms.postprocessing.correlation.Correlation:\n",
      " |  \n",
      " |  nbodies = 1\n",
      "\n"
     ]
    }
   ],
   "source": [
    "help(pp.fourierspace.FourierSpaceCorrelation)"
   ]
  },
  {
   "cell_type": "markdown",
   "metadata": {},
   "source": [
    "The ISF decays to zero at long times, as it should in an ergodic liquid."
   ]
  },
  {
   "cell_type": "code",
   "execution_count": 36,
   "metadata": {},
   "outputs": [
    {
     "data": {
      "text/plain": [
       "[<matplotlib.lines.Line2D at 0x7f769d0da4d0>]"
      ]
     },
     "execution_count": 36,
     "metadata": {},
     "output_type": "execute_result"
    },
    {
     "data": {
      "image/png": "[encoded data removed]",
      "text/plain": [
       "<matplotlib.figure.Figure at 0x7f769d571610>"
      ]
     },
     "metadata": {},
     "output_type": "display_data"
    }
   ],
   "source": [
    "pl.semilogx(isf.partial['A'].grid[1], isf.partial['A'].value[0], '-o') "
   ]
  },
  {
   "cell_type": "markdown",
   "metadata": {},
   "source": [
    "We can extend the correlation class to compute additional correlation functions. The particle coordinates are loaded into the *\\_pos* instance variable as a list of numpy arrays. Each numpy array is a (ndim, npart) representation of the full particles' coordinates in a given frame of the trajectory. This is a gist of a new correlation class."
   ]
  },
  {
   "cell_type": "code",
   "execution_count": 47,
   "metadata": {},
   "outputs": [],
   "source": [
    "from collections import defaultdict\n",
    "import numpy\n",
    "\n",
    "def some_function(x, pos):\n",
    "    return 0.0\n",
    "\n",
    "class NewCorrelation(pp.correlation.Correlation):\n",
    "    def __init__(self, trajectory, grid):\n",
    "        pp.correlation.Correlation.__init__(self, trajectory, grid, phasespace=[\"pos\"])\n",
    "   \n",
    "    def _compute(self):\n",
    "        print \"Computing new correlation\"\n",
    "        raw = defaultdict(list)\n",
    "        for i in range(len(self._pos)):\n",
    "            for x in self.grid: \n",
    "                raw[x].append(some_function(x, self._pos[i]))        \n",
    "        self.value = [numpy.mean(raw[x]) for x in raw]"
   ]
  },
  {
   "cell_type": "code",
   "execution_count": 48,
   "metadata": {},
   "outputs": [
    {
     "name": "stdout",
     "output_type": "stream",
     "text": [
      "Computing new correlation\n"
     ]
    },
    {
     "data": {
      "text/plain": [
       "([0.0, 1.0], [0.0, 0.0])"
      ]
     },
     "execution_count": 48,
     "metadata": {},
     "output_type": "execute_result"
    }
   ],
   "source": [
    "nw = NewCorrelation(th, [0.0, 1.0])\n",
    "nw.compute()"
   ]
  },
  {
   "cell_type": "markdown",
   "metadata": {},
   "source": [
    "*Author: Francesco Turci*"
   ]
  },
  {
   "cell_type": "code",
   "execution_count": null,
   "metadata": {},
   "outputs": [],
   "source": []
  }
 ],
 "metadata": {
  "kernelspec": {
   "display_name": "Python 2",
   "language": "python",
   "name": "python2"
  },
  "language_info": {
   "codemirror_mode": {
    "name": "ipython",
    "version": 2
   },
   "file_extension": ".py",
   "mimetype": "text/x-python",
   "name": "python",
   "nbconvert_exporter": "python",
   "pygments_lexer": "ipython2",
   "version": "2.7.12"
  }
 },
 "nbformat": 4,
 "nbformat_minor": 2
}
